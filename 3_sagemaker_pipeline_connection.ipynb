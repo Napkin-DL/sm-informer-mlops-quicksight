{
 "cells": [
  {
   "cell_type": "markdown",
   "id": "b214fb49",
   "metadata": {},
   "source": [
    "## MLOps 구축하기"
   ]
  },
  {
   "cell_type": "markdown",
   "id": "b8329568",
   "metadata": {},
   "source": [
    "## 1. SageMaker Studio 에서 Pipeline 실행\n",
    "\n",
    "사용 중인 region에서 SageMaker Studio를 실행합니다. Event Engine을 사용하시는 분들은 이미 SageMaker Studio가 생성되어 있기 때문에 AWS 콘솔에서 SageMaker에 있는 Studio를 클릭하여 **open Studio**를 클릭하여 환경으로 접속하게 됩니다.\n",
    "\n",
    "<p align=\"center\">\n",
    "<center><img src=\"./img/studio_notebook.png\" height=\"250\" width=\"850\" alt=\"\"><center>\n",
    "<br><br>\n",
    "</p>\n",
    "    \n",
    "SageMaker studio에 접속한 다음, SageMaker의 Pipeline을 생성하기 위해 Project를 생성합니다. **create project**를 선택한 다음 **MLOps template for model building and training**을 선택한 다음 **select project template**을 생성합니다.\n",
    "<p align=\"center\">\n",
    "<center><img src=\"./img/project_create.png\" height=\"250\" width=\"850\" alt=\"\"><center>\n",
    "<br><br>\n",
    "</p>   \n",
    "    \n",
    "원하시는 project 이름을 입력한 다음, **create project**를 클릭하여 project를 생성합니다.\n",
    "<p align=\"center\">\n",
    "<center><img src=\"./img/project_create_detail.png\" height=\"150\" width=\"550\" alt=\"\"><center>\n",
    "<br><br>\n",
    "</p>   "
   ]
  },
  {
   "cell_type": "code",
   "execution_count": 36,
   "id": "cdb94d45",
   "metadata": {},
   "outputs": [],
   "source": [
    "import boto3\n",
    "import json\n",
    "from sagemaker import get_execution_role\n",
    "from time import strftime\n",
    "import calendar\n",
    "import time"
   ]
  },
  {
   "cell_type": "code",
   "execution_count": 37,
   "id": "99f08eeb",
   "metadata": {},
   "outputs": [
    {
     "name": "stdout",
     "output_type": "stream",
     "text": [
      "default_bucket : sagemaker-us-west-2-653762495386\n"
     ]
    }
   ],
   "source": [
    "%store -r\n",
    "print(f\"default_bucket : {default_bucket}\")"
   ]
  },
  {
   "cell_type": "markdown",
   "id": "98923f7b",
   "metadata": {},
   "source": [
    "### 1. 활용할 소스코드를 S3로 업로드 하기\n",
    "\n",
    "데이터 과학자가 개발한 소스코드를 S3 또는 CodeCommit, Github 등을 통해 플랫폼 엔지니어가 개발하는 플랫폼으로 전달할 수 있습니다. 여기에서는 간단한 HOL 구성을 위해 코드 레포지토리 대신 S3에 저장하여 옮기는 것으로 구현하였습니다."
   ]
  },
  {
   "cell_type": "code",
   "execution_count": 38,
   "id": "0268674f",
   "metadata": {},
   "outputs": [],
   "source": [
    "!aws s3 sync ./Informer2020/ s3://$default_bucket/Informer2020 --quiet"
   ]
  },
  {
   "cell_type": "code",
   "execution_count": 39,
   "id": "76938e44",
   "metadata": {},
   "outputs": [],
   "source": [
    "iam_client = boto3.client('iam')\n",
    "role=get_execution_role()\n",
    "base_role_name=role.split('/')[-1]"
   ]
  },
  {
   "cell_type": "code",
   "execution_count": 40,
   "id": "3ef55b0b",
   "metadata": {},
   "outputs": [],
   "source": [
    "sts_client = boto3.client(\"sts\")\n",
    "account_id = sts_client.get_caller_identity()['Account']"
   ]
  },
  {
   "cell_type": "markdown",
   "id": "b9d171f6",
   "metadata": {},
   "source": [
    "### 2. MLOps에서 활용할 Policy 설정하기\n",
    "\n",
    "해당 HOL에서 구현할 아키텍처에 필요한 managed policy를 아래와 같이 정의합니다. Role을 별도 생성하셔도 되지만 HOL의 편의성을 위해 SageMaker Notebook/Studio와 동일한 Role에 policy를 추가하여 계속 활용합니다."
   ]
  },
  {
   "cell_type": "code",
   "execution_count": 41,
   "id": "339fa578",
   "metadata": {},
   "outputs": [
    {
     "data": {
      "text/plain": [
       "{'ResponseMetadata': {'RequestId': 'f36d935c-5b99-4d6e-8ac3-fbb6858e37ed',\n",
       "  'HTTPStatusCode': 200,\n",
       "  'HTTPHeaders': {'x-amzn-requestid': 'f36d935c-5b99-4d6e-8ac3-fbb6858e37ed',\n",
       "   'content-type': 'text/xml',\n",
       "   'content-length': '212',\n",
       "   'date': 'Thu, 07 Oct 2021 03:27:42 GMT'},\n",
       "  'RetryAttempts': 0}}"
      ]
     },
     "execution_count": 41,
     "metadata": {},
     "output_type": "execute_result"
    }
   ],
   "source": [
    "iam_client.attach_role_policy(\n",
    "    RoleName=base_role_name,\n",
    "    PolicyArn='arn:aws:iam::aws:policy/AmazonEventBridgeFullAccess'\n",
    ")\n",
    "iam_client.attach_role_policy(\n",
    "    RoleName=base_role_name,\n",
    "    PolicyArn='arn:aws:iam::aws:policy/AWSLambda_FullAccess'\n",
    ")"
   ]
  },
  {
   "cell_type": "markdown",
   "id": "f46241ed",
   "metadata": {},
   "source": [
    "### 3. SageMaker Studio의 설정값에서 model_package_group_name 가져오기"
   ]
  },
  {
   "cell_type": "code",
   "execution_count": 42,
   "id": "8923c18b",
   "metadata": {},
   "outputs": [
    {
     "data": {
      "text/plain": [
       "'informer-test-p-xbvazfbgubbc'"
      ]
     },
     "execution_count": 42,
     "metadata": {},
     "output_type": "execute_result"
    }
   ],
   "source": [
    "sm_client = boto3.client(\"sagemaker\")\n",
    "\n",
    "project_name=sm_client.list_projects(\n",
    "    SortBy='CreationTime',\n",
    "    SortOrder='Descending')['ProjectSummaryList'][0]['ProjectName']\n",
    "project_name\n",
    "\n",
    "project_response=sm_client.describe_project(ProjectName=project_name)\n",
    "model_package_group_name = project_response['ProjectName']+\"-\"+project_response['ProjectId']\n",
    "model_package_group_name"
   ]
  },
  {
   "cell_type": "markdown",
   "id": "9033e53a",
   "metadata": {},
   "source": [
    "### 4. Create Amazon EventBridge Rule\n",
    "\n",
    "model registry에서 모델이 **Approved**되었을 때 이벤트 트리거를 만들기 위한 설정을 Amazon EventBridge Rule을 이용하여 설정합니다."
   ]
  },
  {
   "cell_type": "code",
   "execution_count": 43,
   "id": "65ba180c",
   "metadata": {},
   "outputs": [],
   "source": [
    "event_client = boto3.client('events')"
   ]
  },
  {
   "cell_type": "code",
   "execution_count": 44,
   "id": "7d23ab15",
   "metadata": {},
   "outputs": [],
   "source": [
    "eventpattern = json.dumps(\n",
    "    {\n",
    "      \"source\": [\"aws.sagemaker\"],\n",
    "      \"detail-type\": [\"SageMaker Model Package State Change\"],\n",
    "      \"detail\": {\n",
    "        \"ModelPackageGroupName\": [f\"{model_package_group_name}\"],\n",
    "        \"ModelApprovalStatus\": [\"Approved\"]\n",
    "      }\n",
    "    }\n",
    ")"
   ]
  },
  {
   "cell_type": "code",
   "execution_count": 45,
   "id": "0f96679b",
   "metadata": {},
   "outputs": [],
   "source": [
    "rule_name = 'informer_model_package_state'\n",
    "event_rule = event_client.put_rule(\n",
    "    Name=rule_name,\n",
    "    EventPattern=eventpattern,\n",
    "    State='ENABLED',\n",
    "    Description='This is after the approval update for the Informer model',\n",
    ")"
   ]
  },
  {
   "cell_type": "markdown",
   "id": "07c1717a",
   "metadata": {},
   "source": [
    "### 5. Lambda function 생성\n",
    "\n",
    "EventBridge 에서 Rule 만족하는 이벤트가 발생했을 때 실행되는 Lambda Function을 정의합니다. Lambda Function 은 테스트 데이터를 예측하는 Batch transform job을 수행하게 됩니다.\n"
   ]
  },
  {
   "cell_type": "code",
   "execution_count": 46,
   "id": "7e5e2fe9",
   "metadata": {},
   "outputs": [],
   "source": [
    "code_location = f\"s3://{default_bucket}/sagemaker_lambda/\"\n",
    "zip_filename = 'lambda.zip'"
   ]
  },
  {
   "cell_type": "code",
   "execution_count": 47,
   "id": "13cd06ec",
   "metadata": {},
   "outputs": [
    {
     "name": "stdout",
     "output_type": "stream",
     "text": [
      "updating: create_model.py (deflated 64%)\n"
     ]
    }
   ],
   "source": [
    "%%bash\n",
    "cd ./Informer2020/sagemaker_lambda/\n",
    "zip lambda.zip create_model.py"
   ]
  },
  {
   "cell_type": "code",
   "execution_count": 48,
   "id": "de551fc3",
   "metadata": {},
   "outputs": [
    {
     "name": "stdout",
     "output_type": "stream",
     "text": [
      "upload: Informer2020/sagemaker_lambda/lambda.zip to s3://sagemaker-us-west-2-653762495386/sagemaker_lambda/lambda.zip\n"
     ]
    }
   ],
   "source": [
    "!aws s3 cp ./Informer2020/sagemaker_lambda/$zip_filename $code_location"
   ]
  },
  {
   "cell_type": "code",
   "execution_count": 49,
   "id": "16b16cee",
   "metadata": {},
   "outputs": [],
   "source": [
    "lambda_client = boto3.client('lambda')"
   ]
  },
  {
   "cell_type": "code",
   "execution_count": 50,
   "id": "753e1d00",
   "metadata": {},
   "outputs": [],
   "source": [
    "lambda_trust_policy=json.dumps({\n",
    "  \"Version\": \"2012-10-17\",\n",
    "  \"Statement\": [\n",
    "    {\n",
    "      \"Effect\": \"Allow\",\n",
    "      \"Principal\": {\n",
    "        \"Service\": \"lambda.amazonaws.com\"\n",
    "      },\n",
    "      \"Action\": \"sts:AssumeRole\"\n",
    "    }\n",
    "  ]\n",
    "})"
   ]
  },
  {
   "cell_type": "code",
   "execution_count": 51,
   "id": "5436c2b1",
   "metadata": {},
   "outputs": [],
   "source": [
    "role_name='lambda-assume-role_'+ strftime(\"%m%d-%H%M%s\")\n",
    "try:\n",
    "    for role_list in iam_client.list_roles()['Roles']:\n",
    "        pre_role_name = role_list['RoleName']\n",
    "        if pre_role_name.split(\"_\")[0] in ['lambda-assume-role']:\n",
    "            iam_client.detach_role_policy(\n",
    "                RoleName=pre_role_name,\n",
    "                PolicyArn='arn:aws:iam::aws:policy/service-role/AWSLambdaBasicExecutionRole'\n",
    "            )\n",
    "            iam_client.detach_role_policy(\n",
    "                RoleName=pre_role_name,\n",
    "                PolicyArn='arn:aws:iam::aws:policy/AmazonSageMakerFullAccess'\n",
    "            )\n",
    "            iam_client.delete_role(RoleName=pre_role_name)\n",
    "except:\n",
    "    pass\n",
    "finally:\n",
    "    lambda_role = iam_client.create_role(\n",
    "        RoleName=role_name,\n",
    "        AssumeRolePolicyDocument=lambda_trust_policy\n",
    "    )\n",
    "    iam_client.attach_role_policy(\n",
    "        RoleName=role_name,\n",
    "        PolicyArn='arn:aws:iam::aws:policy/service-role/AWSLambdaBasicExecutionRole'\n",
    "    )\n",
    "    iam_client.attach_role_policy(\n",
    "        RoleName=role_name,\n",
    "        PolicyArn='arn:aws:iam::aws:policy/AmazonSageMakerFullAccess'\n",
    "    )\n",
    "    time.sleep(10)"
   ]
  },
  {
   "cell_type": "markdown",
   "id": "e5853974",
   "metadata": {},
   "source": [
    "KMS 에러가 발생한 경우 lambda_function을 다시 생성합니다."
   ]
  },
  {
   "cell_type": "code",
   "execution_count": 52,
   "id": "0b841eaa",
   "metadata": {},
   "outputs": [],
   "source": [
    "lambda_name='informer-model-creation-lambda'\n",
    "try:\n",
    "    lambda_client.delete_function(FunctionName=lambda_name)\n",
    "except:\n",
    "    pass\n",
    "finally:\n",
    "    lambda_response = lambda_client.create_function(\n",
    "        FunctionName=lambda_name,\n",
    "        Runtime='python3.9',\n",
    "        Role=lambda_role['Role']['Arn'],\n",
    "        Handler='create_model.lambda_handler',\n",
    "        Code={\n",
    "            'S3Bucket': f'{default_bucket}',\n",
    "            'S3Key': f'sagemaker_lambda/{zip_filename}'\n",
    "        },\n",
    "        Description='Create the latest version-based Informer model',\n",
    "        Timeout=600,\n",
    "        MemorySize=256,\n",
    "        Environment={\n",
    "          'Variables': {\n",
    "              \"role\" : role,\n",
    "              \"default_bucket\" : default_bucket\n",
    "          }\n",
    "      }\n",
    "    )"
   ]
  },
  {
   "cell_type": "code",
   "execution_count": 53,
   "id": "c5ca1e87",
   "metadata": {},
   "outputs": [],
   "source": [
    "lambda_permission_response = lambda_client.add_permission(\n",
    "    FunctionName=lambda_name,\n",
    "    StatementId='InvokeLambdaFunction',\n",
    "    Action='lambda:InvokeFunction',\n",
    "    Principal=\"events.amazonaws.com\",\n",
    "    SourceArn=event_rule['RuleArn'],\n",
    ")"
   ]
  },
  {
   "cell_type": "markdown",
   "id": "3263b528",
   "metadata": {},
   "source": [
    "Amazon EventBridge에 위에서 생성한 Lambda function을 타켓으로 설정합니다."
   ]
  },
  {
   "cell_type": "code",
   "execution_count": 54,
   "id": "b81c2a5b",
   "metadata": {},
   "outputs": [
    {
     "data": {
      "text/plain": [
       "{'FailedEntryCount': 0,\n",
       " 'FailedEntries': [],\n",
       " 'ResponseMetadata': {'RequestId': '67d456b4-10b8-4a8f-8667-e77f551787ec',\n",
       "  'HTTPStatusCode': 200,\n",
       "  'HTTPHeaders': {'x-amzn-requestid': '67d456b4-10b8-4a8f-8667-e77f551787ec',\n",
       "   'content-type': 'application/x-amz-json-1.1',\n",
       "   'content-length': '41',\n",
       "   'date': 'Thu, 07 Oct 2021 03:27:55 GMT'},\n",
       "  'RetryAttempts': 0}}"
      ]
     },
     "execution_count": 54,
     "metadata": {},
     "output_type": "execute_result"
    }
   ],
   "source": [
    "event_client.put_targets(\n",
    "    Rule=rule_name,\n",
    "    Targets=[\n",
    "        {\n",
    "            'Id': 'Target0',\n",
    "            'Arn': lambda_response['FunctionArn']\n",
    "        }\n",
    "    ]\n",
    ")"
   ]
  },
  {
   "cell_type": "markdown",
   "id": "65ba3ea5",
   "metadata": {},
   "source": [
    "### 6. Studio에서 실행하기\n",
    "\n",
    "Project가 생성된 다음 아래와 같이 구성된 환경에서 코드를 가져올 수 있습니다. 아래에서 clone repository를 클릭하여 자신의 SageMaker Studio 환경으로 코드를 가져옵니다.\n",
    "<p align=\"center\">\n",
    "<center><img src=\"./img/git_clone.png\" height=\"250\" width=\"750\" alt=\"\"><center>\n",
    "<br><br>\n",
    "</p>   \n",
    "\n",
    "가져온 코드 리스트 중에서 .ipynb로 끝나는 노트북 파일을 하나 선택하여 클릭한 다음, **오른쪽 상단의 Kernel**을 클릭하여 아래와 같이 나오는 팝업 창에서 **Python 3(Data Science)**를 선택합니다. \n",
    "<p align=\"center\">\n",
    "<center><img src=\"./img/mlops_code.png\" height=\"250\" width=\"750\" alt=\"\"><center>\n",
    "<br><br>\n",
    "</p>  \n",
    "    \n",
    "\n",
    "아래 값은 해당 노트북이 아니라 위에서 생성한 SageMaker Studio에서 수행이 필요합니다.\n",
    "SageMaker Studio의 노트북에서 아래 값을 그대로 copy하여 실행을 합니다.    \n",
    "<p align=\"center\">\n",
    "<center><img src=\"./img/notebook_exe.png\" height=\"250\" width=\"750\" alt=\"\"><center>\n",
    "<br><br>\n",
    "</p>  "
   ]
  },
  {
   "cell_type": "code",
   "execution_count": 55,
   "id": "c517706b",
   "metadata": {},
   "outputs": [
    {
     "name": "stdout",
     "output_type": "stream",
     "text": [
      "!aws s3 sync s3://sagemaker-us-west-2-653762495386/Informer2020 ./Informer2020\n"
     ]
    }
   ],
   "source": [
    "print(f\"!aws s3 sync s3://{default_bucket}/Informer2020 ./Informer2020\")"
   ]
  },
  {
   "cell_type": "markdown",
   "id": "c333a545",
   "metadata": {},
   "source": [
    "이후 SageMaker Studio에서 모든 소스코드를 commit한 다음 push를 하면 이후 자동으로 SageMaker Pipeline은 실행이 됩니다. 실행되는 모습은 SageMaker Pipeline에서 확인하거나 Codepipeline에서 확인하실 수 있습니다.\n",
    "<p align=\"center\">\n",
    "<center><img src=\"./img/code_commit.png\" height=\"250\" width=\"750\" alt=\"\"><center>\n",
    "<br><br>\n",
    "</p>  \n",
    "<p align=\"center\">\n",
    "<center><img src=\"./img/mlops_exe.png\" height=\"350\" width=\"750\" alt=\"\"><center>\n",
    "<br><br>\n",
    "</p>  \n",
    "    \n",
    "SageMaker Pipeline이 수행된 다음에는 학습된 model은 model registry에 버전별로 등록이 됩니다. 등록된 model을 **Approval**가 하게되면 앞서 설정한 EventBridge가 해당 이벤트를 rule에서 판단하게 되고 이후 테스트 데이터를 예측하는 Batch transform job을 수행하는 Lambda가 시작됩니다. \n",
    "<p align=\"center\">\n",
    "<center><img src=\"./img/model_registry.png\" height=\"350\" width=\"750\" alt=\"\"><center>\n",
    "<br><br>\n",
    "</p>      \n",
    "    \n",
    "    \n",
    "    "
   ]
  },
  {
   "cell_type": "markdown",
   "id": "97a797f2",
   "metadata": {},
   "source": [
    "### 7. QuickSight에서 사용할 manifest_file 생성하기\n",
    "\n",
    "quicksight에서 사용할 manifest_file 생성합니다."
   ]
  },
  {
   "cell_type": "code",
   "execution_count": 56,
   "id": "481ab8c4",
   "metadata": {},
   "outputs": [],
   "source": [
    "manifest_file = {\n",
    "                \"fileLocations\": [\n",
    "                    {\n",
    "                        \"URIPrefixes\": [\n",
    "                            f\"s3://{default_bucket}/prediciton_result/\"\n",
    "                        ]\n",
    "                    }\n",
    "                ],\n",
    "                \"globalUploadSettings\": {\n",
    "                    \"format\": \"CSV\",\n",
    "                    \"delimiter\": \",\",\n",
    "                    \"textqualifier\": \"\\\"\",\n",
    "                    \"containsHeader\": \"true\"\n",
    "                }\n",
    "            }"
   ]
  },
  {
   "cell_type": "code",
   "execution_count": 57,
   "id": "a361984a",
   "metadata": {},
   "outputs": [],
   "source": [
    "with open(\"./quicksight/manifest_file.json\", 'w', encoding=\"utf-8\") as f:\n",
    "    json.dump(manifest_file, f, indent=\"\\t\")"
   ]
  },
  {
   "cell_type": "markdown",
   "id": "d0344f66",
   "metadata": {},
   "source": [
    "### 8. QuickSight 생성하기\n",
    "\n",
    "AWS 콘솔에서 QuickSight 서비스를 생성합니다. 기본 설정에서 하단의 continue 버튼을 클릭합니다.\n",
    "<p align=\"center\">\n",
    "<center><img src=\"./img/quicksight_start.png\" height=\"250\" width=\"550\" alt=\"\"><center>\n",
    "<br><br>\n",
    "</p>  \n",
    " \n",
    "- Region은 편의성을 위해 현재 사용 중인 리전을 선택합니다. \n",
    "- 다음 Account Name은 unique한 이름으로 설정합니다. \n",
    "- 이메일 주소를 넣습니다.\n",
    "- Amazon S3를 선택한 다음 default_bucket 버킷명을 찾아서 선택하고 Finish 버튼을 클릭합니다."
   ]
  },
  {
   "cell_type": "code",
   "execution_count": null,
   "id": "72c86683",
   "metadata": {},
   "outputs": [],
   "source": [
    "print(default_bucket)"
   ]
  },
  {
   "cell_type": "markdown",
   "id": "99b4cfb5",
   "metadata": {},
   "source": [
    "    \n",
    "<p align=\"center\">\n",
    "<center><img src=\"./img/quicksight_setting.png\" height=\"750\" width=\"1050\" alt=\"\"><center>\n",
    "<br><br>\n",
    "</p>  \n",
    "\n",
    "    \n",
    "왼쪽 메뉴에서 **Datasets**를 선택한 다음 오른쪽 상단의 **New dataset**을 선택합니다. 이후 **S3**를 선택하면 아래와 같이 팝업 창이 뜨고, 원하는 이름으로 **data source name**을 설정한 다음, **upload a manifest file**에는 위에 copy한 S3 주소를 입력합니다."
   ]
  },
  {
   "cell_type": "code",
   "execution_count": null,
   "id": "1c50d12f",
   "metadata": {},
   "outputs": [],
   "source": [
    "!aws s3 cp ./quicksight/manifest_file.json s3://$default_bucket/quick_sight/ --quiet\n",
    "print(f\"s3://{default_bucket}/quick_sight/manifest_file.json\")"
   ]
  },
  {
   "cell_type": "markdown",
   "id": "21aee1c0",
   "metadata": {},
   "source": [
    "<p align=\"center\">\n",
    "<center><img src=\"./img/quicksight_dataset.png\" height=\"750\" width=\"1050\" alt=\"\"><center>\n",
    "<br><br>\n",
    "</p>  "
   ]
  },
  {
   "cell_type": "markdown",
   "id": "d2ad4c6b",
   "metadata": {},
   "source": [
    "앞에서 생성한 dataset에서 **visualize**를 선택하면 아래와 같이 그래프 생성이 가능합니다. **date**는 X axis로, **OT (Ground Truth)**, **Prediction**는 Value로 선택한 다음, date의 간격을 **Hour**로 변경해 줍니다."
   ]
  },
  {
   "cell_type": "markdown",
   "id": "b72207af",
   "metadata": {},
   "source": [
    "<p align=\"center\">\n",
    "<center><img src=\"./img/quicksight_vis.png\" height=\"750\" width=\"1050\" alt=\"\"><center>\n",
    "<br><br>\n",
    "</p>  "
   ]
  },
  {
   "cell_type": "markdown",
   "id": "83427f09",
   "metadata": {},
   "source": [
    "QuickSight에 관련된 자세한 실습은 [QuickSight Workshop](https://learnquicksight.workshop.aws/en/author-workshop/0.prerequisites.html) 에서 수행해 보시기 바랍니다."
   ]
  },
  {
   "cell_type": "markdown",
   "id": "03b05dc7",
   "metadata": {},
   "source": [
    "### 9. quicksight spice dataset을 refresh하기\n",
    "\n",
    "모델이 새롭게 업데이트된 다음 다시 예측을 수행하게 되면 새롭게 생성된 결과 CSV 파일을 다시 업데이트하여 QuickSight Figure을 업데이트해야 합니다."
   ]
  },
  {
   "cell_type": "code",
   "execution_count": null,
   "id": "184c09ed",
   "metadata": {},
   "outputs": [],
   "source": [
    "qs_client = boto3.client(\"quicksight\")"
   ]
  },
  {
   "cell_type": "code",
   "execution_count": null,
   "id": "8a283415",
   "metadata": {},
   "outputs": [],
   "source": [
    "datasets_ids = [summary[\"DataSetId\"] for summary in res[\"DataSetSummaries\"]]"
   ]
  },
  {
   "cell_type": "code",
   "execution_count": null,
   "id": "fd419a65",
   "metadata": {},
   "outputs": [],
   "source": [
    "res = qs_client.list_data_sets(AwsAccountId=account_id)\n",
    "\n",
    "# filter out your datasets using a prefix. All my datasets have chicago_crimes as their prefix\n",
    "datasets_ids = [summary[\"DataSetId\"] for summary in res[\"DataSetSummaries\"]]\n",
    "ingestion_ids = []\n",
    "\n",
    "for dataset_id in datasets_ids:\n",
    "    try:\n",
    "        ingestion_id = str(calendar.timegm(time.gmtime()))\n",
    "#         ingestion_id = str(uuid.uuid4())\n",
    "        qs_client.create_ingestion(DataSetId=dataset_id, IngestionId=ingestion_id,\n",
    "                                             AwsAccountId=account_id)\n",
    "        ingestion_ids.append(ingestion_id)\n",
    "    except Exception as e:\n",
    "        print(e)\n",
    "        pass\n",
    "\n",
    "for ingestion_id, dataset_id in zip(ingestion_ids, datasets_ids):\n",
    "    while True:\n",
    "        response = qs_client.describe_ingestion(DataSetId=dataset_id,\n",
    "                                             IngestionId=ingestion_id,\n",
    "                                             AwsAccountId=account_id)\n",
    "        if response['Ingestion']['IngestionStatus'] in ('INITIALIZED', 'QUEUED', 'RUNNING'):\n",
    "            time.sleep(5)     #change sleep time according to your dataset size\n",
    "        elif response['Ingestion']['IngestionStatus'] == 'COMPLETED':\n",
    "            print(\"refresh completed. RowsIngested {0}, RowsDropped {1}, IngestionTimeInSeconds {2}, IngestionSizeInBytes {3}\".format(\n",
    "                response['Ingestion']['RowInfo']['RowsIngested'],\n",
    "                response['Ingestion']['RowInfo']['RowsDropped'],\n",
    "                response['Ingestion']['IngestionTimeInSeconds'],\n",
    "                response['Ingestion']['IngestionSizeInBytes']))\n",
    "            break\n",
    "        else:\n",
    "            print(\"refresh failed for {0}! - status {1}\".format(dataset_id, response['Ingestion']['IngestionStatus']))\n",
    "            break"
   ]
  },
  {
   "cell_type": "code",
   "execution_count": null,
   "id": "4c919b70",
   "metadata": {},
   "outputs": [],
   "source": []
  }
 ],
 "metadata": {
  "kernelspec": {
   "display_name": "conda_pytorch_latest_p37",
   "language": "python",
   "name": "conda_pytorch_latest_p37"
  },
  "language_info": {
   "codemirror_mode": {
    "name": "ipython",
    "version": 3
   },
   "file_extension": ".py",
   "mimetype": "text/x-python",
   "name": "python",
   "nbconvert_exporter": "python",
   "pygments_lexer": "ipython3",
   "version": "3.7.10"
  }
 },
 "nbformat": 4,
 "nbformat_minor": 5
}
