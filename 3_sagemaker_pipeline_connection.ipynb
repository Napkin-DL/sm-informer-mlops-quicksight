{
 "cells": [
  {
   "cell_type": "code",
   "execution_count": 1,
   "id": "7681f871",
   "metadata": {},
   "outputs": [],
   "source": [
    "import boto3\n",
    "import json\n",
    "from sagemaker import get_execution_role"
   ]
  },
  {
   "cell_type": "code",
   "execution_count": 2,
   "id": "c227f6e1",
   "metadata": {},
   "outputs": [
    {
     "name": "stdout",
     "output_type": "stream",
     "text": [
      "default_bucket : sagemaker-us-west-2-322537213286\n"
     ]
    }
   ],
   "source": [
    "%store -r\n",
    "print(f\"default_bucket : {default_bucket}\")"
   ]
  },
  {
   "cell_type": "code",
   "execution_count": 3,
   "id": "d9e42e34",
   "metadata": {},
   "outputs": [],
   "source": [
    "!aws s3 sync ./Informer2020/ s3://$default_bucket/Informer2020 --quiet"
   ]
  },
  {
   "cell_type": "code",
   "execution_count": 4,
   "id": "83f36bdc",
   "metadata": {},
   "outputs": [],
   "source": [
    "iam_client = boto3.client('iam')"
   ]
  },
  {
   "cell_type": "code",
   "execution_count": 5,
   "id": "b29d7818",
   "metadata": {},
   "outputs": [],
   "source": [
    "role=get_execution_role()"
   ]
  },
  {
   "cell_type": "code",
   "execution_count": 6,
   "id": "9502bb73",
   "metadata": {},
   "outputs": [],
   "source": [
    "base_role_name=role.split('/')[-1]"
   ]
  },
  {
   "cell_type": "code",
   "execution_count": 7,
   "id": "96f8b5cf",
   "metadata": {},
   "outputs": [
    {
     "data": {
      "text/plain": [
       "{'ResponseMetadata': {'RequestId': 'a32a8821-d522-497e-aac8-efcf968b4b8e',\n",
       "  'HTTPStatusCode': 200,\n",
       "  'HTTPHeaders': {'x-amzn-requestid': 'a32a8821-d522-497e-aac8-efcf968b4b8e',\n",
       "   'content-type': 'text/xml',\n",
       "   'content-length': '212',\n",
       "   'date': 'Tue, 28 Sep 2021 11:49:27 GMT'},\n",
       "  'RetryAttempts': 0}}"
      ]
     },
     "execution_count": 7,
     "metadata": {},
     "output_type": "execute_result"
    }
   ],
   "source": [
    "iam_client.attach_role_policy(\n",
    "    RoleName=base_role_name,\n",
    "    PolicyArn='arn:aws:iam::aws:policy/AmazonEventBridgeFullAccess'\n",
    ")\n",
    "iam_client.attach_role_policy(\n",
    "    RoleName=base_role_name,\n",
    "    PolicyArn='arn:aws:iam::aws:policy/AWSLambda_FullAccess'\n",
    ")\n",
    "# iam_client.attach_role_policy(\n",
    "#     RoleName=base_role_name,\n",
    "#     PolicyArn='arn:aws:iam::aws:policy/service-role/AWSQuickSightListIAM'\n",
    "# )\n",
    "iam_client.attach_role_policy(\n",
    "    RoleName=base_role_name,\n",
    "    PolicyArn='arn:aws:iam::322537213286:policy/service-role/AWSQuickSightS3Policy'\n",
    ")\n"
   ]
  },
  {
   "cell_type": "code",
   "execution_count": 8,
   "id": "9a2276f3",
   "metadata": {},
   "outputs": [],
   "source": [
    "sm_client = boto3.client(\"sagemaker\")"
   ]
  },
  {
   "cell_type": "code",
   "execution_count": 9,
   "id": "5e39c2a1",
   "metadata": {},
   "outputs": [],
   "source": [
    "project_name='mlops-training'"
   ]
  },
  {
   "cell_type": "code",
   "execution_count": 10,
   "id": "6b4cf3bd",
   "metadata": {},
   "outputs": [],
   "source": [
    "project_response=sm_client.describe_project(ProjectName=project_name)"
   ]
  },
  {
   "cell_type": "code",
   "execution_count": 11,
   "id": "4086ba55",
   "metadata": {},
   "outputs": [],
   "source": [
    "model_package_group_name = project_response['ProjectName']+\"-\"+project_response['ProjectId']"
   ]
  },
  {
   "cell_type": "markdown",
   "id": "c6698c8f",
   "metadata": {},
   "source": [
    "## 1. Create Amazon EventBridge Rule"
   ]
  },
  {
   "cell_type": "code",
   "execution_count": 12,
   "id": "641627e2",
   "metadata": {},
   "outputs": [],
   "source": [
    "event_client = boto3.client('events')"
   ]
  },
  {
   "cell_type": "code",
   "execution_count": 13,
   "id": "57bc9344",
   "metadata": {},
   "outputs": [],
   "source": [
    "eventpattern = json.dumps(\n",
    "    {\n",
    "      \"source\": [\"aws.sagemaker\"],\n",
    "      \"detail-type\": [\"SageMaker Model Package State Change\"],\n",
    "      \"detail\": {\n",
    "        \"ModelPackageGroupName\": [f\"{model_package_group_name}\"],\n",
    "        \"ModelApprovalStatus\": [\"Approved\"]\n",
    "      }\n",
    "    }\n",
    ")"
   ]
  },
  {
   "cell_type": "code",
   "execution_count": 14,
   "id": "c092f60b",
   "metadata": {},
   "outputs": [],
   "source": [
    "rule_name = 'informer_model_package_state'\n",
    "event_rule = event_client.put_rule(\n",
    "    Name=rule_name,\n",
    "    EventPattern=eventpattern,\n",
    "    State='ENABLED',\n",
    "    Description='This is after the approval update for the Informer model',\n",
    ")"
   ]
  },
  {
   "cell_type": "markdown",
   "id": "12dc3653",
   "metadata": {},
   "source": [
    "## 2. Create Lambda function"
   ]
  },
  {
   "cell_type": "code",
   "execution_count": 15,
   "id": "4a80314e",
   "metadata": {},
   "outputs": [],
   "source": [
    "code_location = f\"s3://{default_bucket}/sagemaker_lambda/\"\n",
    "zip_filename = 'lambda.zip'"
   ]
  },
  {
   "cell_type": "code",
   "execution_count": 16,
   "id": "aec91682",
   "metadata": {},
   "outputs": [
    {
     "name": "stdout",
     "output_type": "stream",
     "text": [
      "updating: create_model.py (deflated 64%)\n"
     ]
    }
   ],
   "source": [
    "%%bash\n",
    "cd ./Informer2020/sagemaker_lambda/\n",
    "zip lambda.zip create_model.py"
   ]
  },
  {
   "cell_type": "code",
   "execution_count": 17,
   "id": "69dc17c9",
   "metadata": {},
   "outputs": [
    {
     "name": "stdout",
     "output_type": "stream",
     "text": [
      "upload: Informer2020/sagemaker_lambda/lambda.zip to s3://sagemaker-us-west-2-322537213286/sagemaker_lambda/lambda.zip\n"
     ]
    }
   ],
   "source": [
    "!aws s3 cp ./Informer2020/sagemaker_lambda/$zip_filename $code_location"
   ]
  },
  {
   "cell_type": "code",
   "execution_count": 18,
   "id": "b60b975c",
   "metadata": {},
   "outputs": [],
   "source": [
    "lambda_client = boto3.client('lambda')"
   ]
  },
  {
   "cell_type": "code",
   "execution_count": 19,
   "id": "2f587904",
   "metadata": {},
   "outputs": [],
   "source": [
    "lambda_trust_policy=json.dumps({\n",
    "  \"Version\": \"2012-10-17\",\n",
    "  \"Statement\": [\n",
    "    {\n",
    "      \"Effect\": \"Allow\",\n",
    "      \"Principal\": {\n",
    "        \"Service\": \"lambda.amazonaws.com\"\n",
    "      },\n",
    "      \"Action\": \"sts:AssumeRole\"\n",
    "    }\n",
    "  ]\n",
    "})"
   ]
  },
  {
   "cell_type": "code",
   "execution_count": 20,
   "id": "3d605cf0",
   "metadata": {},
   "outputs": [],
   "source": [
    "role_name='lambda-assume-role'\n",
    "try:\n",
    "    iam_client.detach_role_policy(\n",
    "        RoleName=role_name,\n",
    "        PolicyArn='arn:aws:iam::aws:policy/service-role/AWSLambdaBasicExecutionRole'\n",
    "    )\n",
    "    iam_client.detach_role_policy(\n",
    "        RoleName=role_name,\n",
    "        PolicyArn='arn:aws:iam::aws:policy/AmazonSageMakerFullAccess'\n",
    "    )\n",
    "    iam_client.delete_role(RoleName=role_name)\n",
    "except:\n",
    "    pass\n",
    "finally:\n",
    "    lambda_role = iam_client.create_role(\n",
    "        RoleName=role_name,\n",
    "        AssumeRolePolicyDocument=lambda_trust_policy\n",
    "    )\n",
    "    iam_client.attach_role_policy(\n",
    "        RoleName=role_name,\n",
    "        PolicyArn='arn:aws:iam::aws:policy/service-role/AWSLambdaBasicExecutionRole'\n",
    "    )\n",
    "    iam_client.attach_role_policy(\n",
    "        RoleName=role_name,\n",
    "        PolicyArn='arn:aws:iam::aws:policy/AmazonSageMakerFullAccess'\n",
    "    )"
   ]
  },
  {
   "cell_type": "markdown",
   "id": "f25cea99",
   "metadata": {},
   "source": [
    "KMS 에러가 발생한 경우 lambda_function을 다시 생성합니다."
   ]
  },
  {
   "cell_type": "code",
   "execution_count": 24,
   "id": "a22c2721",
   "metadata": {},
   "outputs": [],
   "source": [
    "lambda_name='informer-model-creation-lambda'\n",
    "try:\n",
    "    lambda_client.delete_function(FunctionName=lambda_name)\n",
    "except:\n",
    "    pass\n",
    "finally:\n",
    "    lambda_response = lambda_client.create_function(\n",
    "        FunctionName=lambda_name,\n",
    "        Runtime='python3.9',\n",
    "        Role=lambda_role['Role']['Arn'],\n",
    "        Handler='create_model.lambda_handler',\n",
    "        Code={\n",
    "            'S3Bucket': f'{default_bucket}',\n",
    "            'S3Key': f'sagemaker_lambda/{zip_filename}'\n",
    "        },\n",
    "        Description='Create the latest version-based Informer model',\n",
    "        Timeout=600,\n",
    "        MemorySize=256,\n",
    "        Environment={\n",
    "          'Variables': {\n",
    "              \"role\" : role,\n",
    "              \"default_bucket\" : default_bucket\n",
    "          }\n",
    "      }\n",
    "    )"
   ]
  },
  {
   "cell_type": "code",
   "execution_count": 25,
   "id": "e82e8586",
   "metadata": {},
   "outputs": [],
   "source": [
    "lambda_permission_response = lambda_client.add_permission(\n",
    "    FunctionName=lambda_name,\n",
    "    StatementId='InvokeLambdaFunction',\n",
    "    Action='lambda:InvokeFunction',\n",
    "    Principal=\"events.amazonaws.com\",\n",
    "    SourceArn=event_rule['RuleArn'],\n",
    ")"
   ]
  },
  {
   "cell_type": "markdown",
   "id": "2ca66bc6",
   "metadata": {},
   "source": [
    "## 3. Target 셋팅"
   ]
  },
  {
   "cell_type": "code",
   "execution_count": 26,
   "id": "86e46216",
   "metadata": {},
   "outputs": [
    {
     "data": {
      "text/plain": [
       "{'FailedEntryCount': 0,\n",
       " 'FailedEntries': [],\n",
       " 'ResponseMetadata': {'RequestId': '2bea82dd-fd9a-41f2-a702-a7ec62825e07',\n",
       "  'HTTPStatusCode': 200,\n",
       "  'HTTPHeaders': {'x-amzn-requestid': '2bea82dd-fd9a-41f2-a702-a7ec62825e07',\n",
       "   'content-type': 'application/x-amz-json-1.1',\n",
       "   'content-length': '41',\n",
       "   'date': 'Mon, 27 Sep 2021 14:54:41 GMT'},\n",
       "  'RetryAttempts': 0}}"
      ]
     },
     "execution_count": 26,
     "metadata": {},
     "output_type": "execute_result"
    }
   ],
   "source": [
    "event_client.put_targets(\n",
    "    Rule=rule_name,\n",
    "    Targets=[\n",
    "        {\n",
    "            'Id': 'Target0',\n",
    "            'Arn': lambda_response['FunctionArn']\n",
    "        }\n",
    "    ]\n",
    ")"
   ]
  },
  {
   "cell_type": "markdown",
   "id": "5b55db14",
   "metadata": {},
   "source": [
    "### Studio 에서 실행"
   ]
  },
  {
   "cell_type": "code",
   "execution_count": 24,
   "id": "0d752095",
   "metadata": {},
   "outputs": [],
   "source": [
    "# !aws s3 sync s3://$default_bucket/Informer2020 ./Informer2020"
   ]
  },
  {
   "cell_type": "code",
   "execution_count": null,
   "id": "41664e6f",
   "metadata": {},
   "outputs": [],
   "source": []
  },
  {
   "cell_type": "markdown",
   "id": "ddba6006",
   "metadata": {},
   "source": [
    "## QuickSight\n",
    "\n",
    "quicksight에서 사용할 manifest_file 생성합니다."
   ]
  },
  {
   "cell_type": "code",
   "execution_count": 45,
   "id": "41cad2cb",
   "metadata": {},
   "outputs": [],
   "source": [
    "manifest_file = {\n",
    "                \"fileLocations\": [\n",
    "                    {\n",
    "                        \"URIPrefixes\": [\n",
    "                            f\"s3://{default_bucket}/prediciton_result/\"\n",
    "                        ]\n",
    "                    }\n",
    "                ],\n",
    "                \"globalUploadSettings\": {\n",
    "                    \"format\": \"CSV\",\n",
    "                    \"delimiter\": \",\",\n",
    "                    \"textqualifier\": \"\\\"\",\n",
    "                    \"containsHeader\": \"true\"\n",
    "                }\n",
    "            }"
   ]
  },
  {
   "cell_type": "code",
   "execution_count": 46,
   "id": "41cbd85d",
   "metadata": {},
   "outputs": [],
   "source": [
    "with open(\"./quicksight/manifest_file.json\", 'w', encoding=\"utf-8\") as f:\n",
    "    json.dump(manifest_file, f, indent=\"\\t\")"
   ]
  },
  {
   "cell_type": "code",
   "execution_count": 47,
   "id": "9a58289f",
   "metadata": {},
   "outputs": [
    {
     "name": "stdout",
     "output_type": "stream",
     "text": [
      "upload: quicksight/manifest_file.json to s3://sagemaker-us-west-2-322537213286/quick_sight/manifest_file.json\n"
     ]
    }
   ],
   "source": [
    "!aws s3 cp ./quicksight/manifest_file.json s3://$default_bucket/quick_sight/"
   ]
  }
 ],
 "metadata": {
  "kernelspec": {
   "display_name": "conda_pytorch_p36",
   "language": "python",
   "name": "conda_pytorch_p36"
  },
  "language_info": {
   "codemirror_mode": {
    "name": "ipython",
    "version": 3
   },
   "file_extension": ".py",
   "mimetype": "text/x-python",
   "name": "python",
   "nbconvert_exporter": "python",
   "pygments_lexer": "ipython3",
   "version": "3.6.13"
  }
 },
 "nbformat": 4,
 "nbformat_minor": 5
}
